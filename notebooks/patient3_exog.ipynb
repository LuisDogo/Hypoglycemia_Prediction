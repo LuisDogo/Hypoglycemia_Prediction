{
 "cells": [
  {
   "cell_type": "markdown",
   "id": "d5b0c1d5",
   "metadata": {},
   "source": [
    "# Modeling HUPA0003 using rapid acting insulin and carb_input as exogenous variables "
   ]
  },
  {
   "cell_type": "markdown",
   "id": "7f219c8d",
   "metadata": {},
   "source": [
    "## Get data and visualize it "
   ]
  },
  {
   "cell_type": "code",
   "execution_count": 1,
   "id": "45eafbac",
   "metadata": {},
   "outputs": [],
   "source": [
    "import pandas  as pd \n",
    "import matplotlib.pyplot as plt"
   ]
  },
  {
   "cell_type": "code",
   "execution_count": 3,
   "id": "2f31a2be",
   "metadata": {},
   "outputs": [],
   "source": [
    "data = pd.read_csv('../Data/Preprocessed/HUPA0003P.csv', sep=';')[['time', 'glucose', 'bolus_volume_delivered', 'carb_input']]\n",
    "data['time'] = pd.to_datetime(data['time'])"
   ]
  },
  {
   "cell_type": "code",
   "execution_count": 5,
   "id": "e299e551",
   "metadata": {},
   "outputs": [
    {
     "data": {
      "text/html": [
       "<div>\n",
       "<style scoped>\n",
       "    .dataframe tbody tr th:only-of-type {\n",
       "        vertical-align: middle;\n",
       "    }\n",
       "\n",
       "    .dataframe tbody tr th {\n",
       "        vertical-align: top;\n",
       "    }\n",
       "\n",
       "    .dataframe thead th {\n",
       "        text-align: right;\n",
       "    }\n",
       "</style>\n",
       "<table border=\"1\" class=\"dataframe\">\n",
       "  <thead>\n",
       "    <tr style=\"text-align: right;\">\n",
       "      <th></th>\n",
       "      <th>time</th>\n",
       "      <th>glucose</th>\n",
       "      <th>bolus_volume_delivered</th>\n",
       "      <th>carb_input</th>\n",
       "    </tr>\n",
       "  </thead>\n",
       "  <tbody>\n",
       "    <tr>\n",
       "      <th>0</th>\n",
       "      <td>2018-06-13 21:40:00</td>\n",
       "      <td>137.666667</td>\n",
       "      <td>0.0</td>\n",
       "      <td>0.0</td>\n",
       "    </tr>\n",
       "    <tr>\n",
       "      <th>1</th>\n",
       "      <td>2018-06-13 21:45:00</td>\n",
       "      <td>137.000000</td>\n",
       "      <td>0.0</td>\n",
       "      <td>0.0</td>\n",
       "    </tr>\n",
       "    <tr>\n",
       "      <th>2</th>\n",
       "      <td>2018-06-13 21:50:00</td>\n",
       "      <td>136.333333</td>\n",
       "      <td>0.0</td>\n",
       "      <td>0.0</td>\n",
       "    </tr>\n",
       "    <tr>\n",
       "      <th>3</th>\n",
       "      <td>2018-06-13 21:55:00</td>\n",
       "      <td>135.666667</td>\n",
       "      <td>0.0</td>\n",
       "      <td>0.0</td>\n",
       "    </tr>\n",
       "    <tr>\n",
       "      <th>4</th>\n",
       "      <td>2018-06-13 22:00:00</td>\n",
       "      <td>135.000000</td>\n",
       "      <td>0.0</td>\n",
       "      <td>0.0</td>\n",
       "    </tr>\n",
       "    <tr>\n",
       "      <th>...</th>\n",
       "      <td>...</td>\n",
       "      <td>...</td>\n",
       "      <td>...</td>\n",
       "      <td>...</td>\n",
       "    </tr>\n",
       "    <tr>\n",
       "      <th>3765</th>\n",
       "      <td>2018-06-26 23:25:00</td>\n",
       "      <td>160.666667</td>\n",
       "      <td>0.0</td>\n",
       "      <td>0.0</td>\n",
       "    </tr>\n",
       "    <tr>\n",
       "      <th>3766</th>\n",
       "      <td>2018-06-26 23:30:00</td>\n",
       "      <td>158.000000</td>\n",
       "      <td>0.0</td>\n",
       "      <td>0.0</td>\n",
       "    </tr>\n",
       "    <tr>\n",
       "      <th>3767</th>\n",
       "      <td>2018-06-26 23:35:00</td>\n",
       "      <td>159.000000</td>\n",
       "      <td>0.0</td>\n",
       "      <td>0.0</td>\n",
       "    </tr>\n",
       "    <tr>\n",
       "      <th>3768</th>\n",
       "      <td>2018-06-26 23:40:00</td>\n",
       "      <td>160.000000</td>\n",
       "      <td>0.0</td>\n",
       "      <td>0.0</td>\n",
       "    </tr>\n",
       "    <tr>\n",
       "      <th>3769</th>\n",
       "      <td>2018-06-26 23:45:00</td>\n",
       "      <td>161.000000</td>\n",
       "      <td>0.0</td>\n",
       "      <td>0.0</td>\n",
       "    </tr>\n",
       "  </tbody>\n",
       "</table>\n",
       "<p>3770 rows × 4 columns</p>\n",
       "</div>"
      ],
      "text/plain": [
       "                    time     glucose  bolus_volume_delivered  carb_input\n",
       "0    2018-06-13 21:40:00  137.666667                     0.0         0.0\n",
       "1    2018-06-13 21:45:00  137.000000                     0.0         0.0\n",
       "2    2018-06-13 21:50:00  136.333333                     0.0         0.0\n",
       "3    2018-06-13 21:55:00  135.666667                     0.0         0.0\n",
       "4    2018-06-13 22:00:00  135.000000                     0.0         0.0\n",
       "...                  ...         ...                     ...         ...\n",
       "3765 2018-06-26 23:25:00  160.666667                     0.0         0.0\n",
       "3766 2018-06-26 23:30:00  158.000000                     0.0         0.0\n",
       "3767 2018-06-26 23:35:00  159.000000                     0.0         0.0\n",
       "3768 2018-06-26 23:40:00  160.000000                     0.0         0.0\n",
       "3769 2018-06-26 23:45:00  161.000000                     0.0         0.0\n",
       "\n",
       "[3770 rows x 4 columns]"
      ]
     },
     "execution_count": 5,
     "metadata": {},
     "output_type": "execute_result"
    }
   ],
   "source": [
    "data"
   ]
  }
 ],
 "metadata": {
  "kernelspec": {
   "display_name": "Python 3",
   "language": "python",
   "name": "python3"
  },
  "language_info": {
   "codemirror_mode": {
    "name": "ipython",
    "version": 3
   },
   "file_extension": ".py",
   "mimetype": "text/x-python",
   "name": "python",
   "nbconvert_exporter": "python",
   "pygments_lexer": "ipython3",
   "version": "3.13.7"
  }
 },
 "nbformat": 4,
 "nbformat_minor": 5
}
